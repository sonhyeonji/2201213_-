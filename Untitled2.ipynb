{
  "nbformat": 4,
  "nbformat_minor": 0,
  "metadata": {
    "colab": {
      "provenance": [],
      "authorship_tag": "ABX9TyM/aFi3bFeE1duW+MFUNlw5",
      "include_colab_link": true
    },
    "kernelspec": {
      "name": "python3",
      "display_name": "Python 3"
    },
    "language_info": {
      "name": "python"
    }
  },
  "cells": [
    {
      "cell_type": "markdown",
      "metadata": {
        "id": "view-in-github",
        "colab_type": "text"
      },
      "source": [
        "<a href=\"https://colab.research.google.com/github/sonhyeonji/22_test_practice/blob/main/Untitled2.ipynb\" target=\"_parent\"><img src=\"https://colab.research.google.com/assets/colab-badge.svg\" alt=\"Open In Colab\"/></a>"
      ]
    },
    {
      "cell_type": "code",
      "execution_count": 59,
      "metadata": {
        "colab": {
          "base_uri": "https://localhost:8080/"
        },
        "id": "c6YCJW_eR9Nk",
        "outputId": "5577a2af-9ee4-4a58-ba5c-564886ce1ca7"
      },
      "outputs": [
        {
          "output_type": "stream",
          "name": "stdout",
          "text": [
            "\"안녕하세요?\" 손현지님, 기초파이썬 강좌를 수강하신 것을 축하드립니다.\n"
          ]
        }
      ],
      "source": [
        "print('\"안녕하세요?\"', \"손현지님, 기초파이썬 강좌를 수강하신 것을 축하드립니다.\")"
      ]
    },
    {
      "cell_type": "code",
      "source": [
        "print(1+2);print(2-3);print(3*4);print(4/4)"
      ],
      "metadata": {
        "colab": {
          "base_uri": "https://localhost:8080/"
        },
        "id": "CoYFAAWRTEwE",
        "outputId": "527124ee-5ca0-4700-c683-2c8539559106"
      },
      "execution_count": 112,
      "outputs": [
        {
          "output_type": "stream",
          "name": "stdout",
          "text": [
            "3\n",
            "-1\n",
            "12\n",
            "1.0\n"
          ]
        }
      ]
    },
    {
      "cell_type": "code",
      "source": [
        "print(\"*\"*37);print(\"*제1조 1항 대한민국은 민주공화국이다*\");print(\"*\"*37)"
      ],
      "metadata": {
        "colab": {
          "base_uri": "https://localhost:8080/"
        },
        "id": "JcQJEeN-8wtv",
        "outputId": "e6f0ae35-b2a3-47b1-d24a-c9665d8c8ba6"
      },
      "execution_count": 111,
      "outputs": [
        {
          "output_type": "stream",
          "name": "stdout",
          "text": [
            "*************************************\n",
            "*제1조 1항 대한민국은 민주공화국이다*\n",
            "*************************************\n"
          ]
        }
      ]
    },
    {
      "cell_type": "code",
      "source": [
        "print(\"Welcome python, 저는 파이썬을 좋아합니다\")"
      ],
      "metadata": {
        "colab": {
          "base_uri": "https://localhost:8080/"
        },
        "id": "wZ_xI1JdWka8",
        "outputId": "0ebc9956-ab02-4dfd-ad40-044a13896041"
      },
      "execution_count": 78,
      "outputs": [
        {
          "output_type": "stream",
          "name": "stdout",
          "text": [
            "Welcome python, 저는 파이썬을 좋아합니다\n"
          ]
        }
      ]
    },
    {
      "cell_type": "code",
      "source": [
        "print(\"9*9는 81입니다.\")"
      ],
      "metadata": {
        "colab": {
          "base_uri": "https://localhost:8080/"
        },
        "id": "OTK5Ulg-W6JQ",
        "outputId": "23c1412a-2b8c-4d3c-baa2-d4d3d867fd7e"
      },
      "execution_count": 24,
      "outputs": [
        {
          "output_type": "stream",
          "name": "stdout",
          "text": [
            "9*9는 81입니다.\n"
          ]
        }
      ]
    },
    {
      "cell_type": "code",
      "source": [
        "x=100\n",
        "y=200\n",
        "z=50\n",
        "sum=x+y-z\n",
        "print(x,y,z, \"sum의 값은\", sum, \"입니다.\")"
      ],
      "metadata": {
        "colab": {
          "base_uri": "https://localhost:8080/"
        },
        "id": "Jji4j9vvXIqO",
        "outputId": "e4a7c70e-ca5a-426e-b713-8d935eed346d"
      },
      "execution_count": 79,
      "outputs": [
        {
          "output_type": "stream",
          "name": "stdout",
          "text": [
            "100 200 50 sum의 값은 250 입니다.\n"
          ]
        }
      ]
    },
    {
      "cell_type": "code",
      "source": [
        "x=9\n",
        "y=6\n",
        "print(x+y)"
      ],
      "metadata": {
        "colab": {
          "base_uri": "https://localhost:8080/"
        },
        "id": "yLIe7gvjYwp-",
        "outputId": "21f8f930-388f-435c-c447-f7cab3a1bf70"
      },
      "execution_count": 30,
      "outputs": [
        {
          "output_type": "stream",
          "name": "stdout",
          "text": [
            "15\n"
          ]
        }
      ]
    },
    {
      "cell_type": "code",
      "source": [
        "x='7'\n",
        "y='4'\n",
        "print(x+y)"
      ],
      "metadata": {
        "colab": {
          "base_uri": "https://localhost:8080/"
        },
        "id": "0KSbZ-9iY9MY",
        "outputId": "2c8459e0-ace2-4c57-c7fd-28ace0da39da"
      },
      "execution_count": 31,
      "outputs": [
        {
          "output_type": "stream",
          "name": "stdout",
          "text": [
            "74\n"
          ]
        }
      ]
    },
    {
      "cell_type": "code",
      "source": [
        "a=input(\"첫 번째 정수를 입력하시오:\")\n",
        "b=input(\"두 번째 정수를 입력하시오:\")\n",
        "print(a,\"과\", b, \"의 합의 값은\", a+b, \"입니다.\")"
      ],
      "metadata": {
        "colab": {
          "base_uri": "https://localhost:8080/"
        },
        "id": "Fjwhxkt3ZYbY",
        "outputId": "8170eb44-c9b9-448f-d3d3-eac3ec61f378"
      },
      "execution_count": 73,
      "outputs": [
        {
          "output_type": "stream",
          "name": "stdout",
          "text": [
            "첫 번째 정수를 입력하시오:100\n",
            "두 번째 정수를 입력하시오:100\n",
            "100 과 100 의 합의 값은 100100 입니다.\n"
          ]
        }
      ]
    },
    {
      "cell_type": "code",
      "source": [
        "a=int(input(\"첫번째 정수를 입력하시오:\"))\n",
        "b=int(input(\"두번쩨 정수를 입력하시오:\"))\n",
        "sum=a+b\n",
        "print(\"두 합의 값은\", sum, \"입니다.\")"
      ],
      "metadata": {
        "colab": {
          "base_uri": "https://localhost:8080/"
        },
        "id": "GUDqr46lh1Cz",
        "outputId": "385e241d-269c-4fc8-acdc-6c5743fe31ac"
      },
      "execution_count": 50,
      "outputs": [
        {
          "output_type": "stream",
          "name": "stdout",
          "text": [
            "첫번째 정수를 입력하시오:100\n",
            "두번쩨 정수를 입력하시오:100\n",
            "두 합의 값은 200 입니다.\n"
          ]
        }
      ]
    },
    {
      "cell_type": "code",
      "source": [
        "for i in[1,2,3,4,5,6,7,8,9,10]: print(\"방문을 환영합니다.\")"
      ],
      "metadata": {
        "colab": {
          "base_uri": "https://localhost:8080/"
        },
        "id": "VV18FRARikB4",
        "outputId": "5938fd6d-e2c1-47d7-aac9-84efc406022a"
      },
      "execution_count": 51,
      "outputs": [
        {
          "output_type": "stream",
          "name": "stdout",
          "text": [
            "방문을 환영합니다.\n",
            "방문을 환영합니다.\n",
            "방문을 환영합니다.\n",
            "방문을 환영합니다.\n",
            "방문을 환영합니다.\n",
            "방문을 환영합니다.\n",
            "방문을 환영합니다.\n",
            "방문을 환영합니다.\n",
            "방문을 환영합니다.\n",
            "방문을 환영합니다.\n"
          ]
        }
      ]
    },
    {
      "cell_type": "code",
      "source": [
        "for i in range(10): print(\"방문을 환영합니다.\")"
      ],
      "metadata": {
        "colab": {
          "base_uri": "https://localhost:8080/"
        },
        "id": "9Pn0fo21jgvk",
        "outputId": "3147a7ce-aada-4cf6-d7dc-24adc80c072a"
      },
      "execution_count": 52,
      "outputs": [
        {
          "output_type": "stream",
          "name": "stdout",
          "text": [
            "방문을 환영합니다.\n",
            "방문을 환영합니다.\n",
            "방문을 환영합니다.\n",
            "방문을 환영합니다.\n",
            "방문을 환영합니다.\n",
            "방문을 환영합니다.\n",
            "방문을 환영합니다.\n",
            "방문을 환영합니다.\n",
            "방문을 환영합니다.\n",
            "방문을 환영합니다.\n"
          ]
        }
      ]
    }
  ]
}