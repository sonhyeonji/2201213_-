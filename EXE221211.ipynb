{
  "nbformat": 4,
  "nbformat_minor": 0,
  "metadata": {
    "colab": {
      "provenance": [],
      "authorship_tag": "ABX9TyPNJbZ7XujimqaUxplaiPO8",
      "include_colab_link": true
    },
    "kernelspec": {
      "name": "python3",
      "display_name": "Python 3"
    },
    "language_info": {
      "name": "python"
    }
  },
  "cells": [
    {
      "cell_type": "markdown",
      "metadata": {
        "id": "view-in-github",
        "colab_type": "text"
      },
      "source": [
        "<a href=\"https://colab.research.google.com/github/sonhyeonji/22_test_practice/blob/main/EXE221211.ipynb\" target=\"_parent\"><img src=\"https://colab.research.google.com/assets/colab-badge.svg\" alt=\"Open In Colab\"/></a>"
      ]
    },
    {
      "cell_type": "code",
      "execution_count": null,
      "metadata": {
        "id": "BZXQ5-_XstQA"
      },
      "outputs": [],
      "source": [
        "outfile = open(\"star2022.txt\", \"a\")\n",
        "outfile.write(\"\\n유재석 010-4232-8458\\n김소현 010-2145-6438\\n박명수 010-5137-9786\")\n",
        "outfile.close()"
      ]
    },
    {
      "cell_type": "code",
      "source": [
        "class Car:\n",
        "  def __init__(self,speed,model,color):\n",
        "    self.speed=speed\n",
        "    self.model=model\n",
        "    self.color=color\n",
        "\n",
        "  def drive(self):\n",
        "    self.speed=60\n",
        "\n",
        "myCar=Car(0,\"A-class\",\"white\")\n",
        "print(\"자동차 객체를 생성하였습니다.\")\n",
        "print(\"자동차의 속도는:\",myCar.speed)\n",
        "print(\"자동차의 모델은:\",myCar.model)\n",
        "print(\"자동차의 색상은:\",myCar.color)\n",
        "\n",
        "momCar=Car(10,\"B-class\",\"black\")\n",
        "print(\"자동차 객체를 생성하였습니다.\")\n",
        "print(\"자동차의 속도는:\",momCar.speed)\n",
        "print(\"자동차의 모델은:\",momCar.model)\n",
        "print(\"자동차의 색상은:\",momCar.color)\n",
        "\n",
        "dadCar=Car(30,\"C-class\",\"white\")\n",
        "print(\"자동차 객체를 생성하였습니다.\")\n",
        "print(\"자동차의 속도는:\",dadCar.speed)\n",
        "print(\"자동차의 모델은:\",dadCar.model)\n",
        "print(\"자동차의 색상은:\",dadCar.color)\n",
        "\n",
        "sister=Car(40,\"D-class\",\"yellow\")\n",
        "print(\"자동차 객체를 생성하였습니다.\")\n",
        "print(\"자동차의 속도는:\",sister.speed)\n",
        "print(\"자동차의 모델은:\",sister.model)\n",
        "print(\"자동차의 색상은:\",sister.color)\n",
        "\n",
        "friendCar=Car(60,\"E-class\",\"blue\")\n",
        "print(\"자동차 객체를 생성하였습니다.\")\n",
        "print(\"자동차의 속도는:\",friendCar.speed)\n",
        "print(\"자동차의 모델은:\",friendCar.model)\n",
        "print(\"자동차의 색상은:\",friendCar.color)"
      ],
      "metadata": {
        "colab": {
          "base_uri": "https://localhost:8080/",
          "height": 372
        },
        "id": "-CfLcF_b9xen",
        "outputId": "3c294894-dab3-45e0-ae7e-69b80c1549e1"
      },
      "execution_count": null,
      "outputs": [
        {
          "output_type": "error",
          "ename": "AttributeError",
          "evalue": "ignored",
          "traceback": [
            "\u001b[0;31m---------------------------------------------------------------------------\u001b[0m",
            "\u001b[0;31mAttributeError\u001b[0m                            Traceback (most recent call last)",
            "\u001b[0;32m<ipython-input-6-7419e1634733>\u001b[0m in \u001b[0;36m<module>\u001b[0;34m\u001b[0m\n\u001b[1;32m      8\u001b[0m     \u001b[0mself\u001b[0m\u001b[0;34m.\u001b[0m\u001b[0mspeed\u001b[0m\u001b[0;34m=\u001b[0m\u001b[0;36m60\u001b[0m\u001b[0;34m\u001b[0m\u001b[0;34m\u001b[0m\u001b[0m\n\u001b[1;32m      9\u001b[0m \u001b[0;34m\u001b[0m\u001b[0m\n\u001b[0;32m---> 10\u001b[0;31m \u001b[0mmyCar\u001b[0m\u001b[0;34m=\u001b[0m\u001b[0mCar\u001b[0m\u001b[0;34m(\u001b[0m\u001b[0;36m0\u001b[0m\u001b[0;34m,\u001b[0m\u001b[0;34m\"A-class\"\u001b[0m\u001b[0;34m,\u001b[0m\u001b[0;34m\"white\"\u001b[0m\u001b[0;34m)\u001b[0m\u001b[0;34m\u001b[0m\u001b[0;34m\u001b[0m\u001b[0m\n\u001b[0m\u001b[1;32m     11\u001b[0m \u001b[0mprint\u001b[0m\u001b[0;34m(\u001b[0m\u001b[0;34m\"자동차 객체를 생성하였습니다.\"\u001b[0m\u001b[0;34m)\u001b[0m\u001b[0;34m\u001b[0m\u001b[0;34m\u001b[0m\u001b[0m\n\u001b[1;32m     12\u001b[0m \u001b[0mprint\u001b[0m\u001b[0;34m(\u001b[0m\u001b[0;34m\"자동차의 속도는:\"\u001b[0m\u001b[0;34m,\u001b[0m\u001b[0mmyCar\u001b[0m\u001b[0;34m.\u001b[0m\u001b[0mspeed\u001b[0m\u001b[0;34m)\u001b[0m\u001b[0;34m\u001b[0m\u001b[0;34m\u001b[0m\u001b[0m\n",
            "\u001b[0;32m<ipython-input-6-7419e1634733>\u001b[0m in \u001b[0;36m__init__\u001b[0;34m(self, speed, model, color)\u001b[0m\n\u001b[1;32m      1\u001b[0m \u001b[0;32mclass\u001b[0m \u001b[0mCar\u001b[0m\u001b[0;34m:\u001b[0m\u001b[0;34m\u001b[0m\u001b[0;34m\u001b[0m\u001b[0m\n\u001b[1;32m      2\u001b[0m   \u001b[0;32mdef\u001b[0m \u001b[0m__init__\u001b[0m\u001b[0;34m(\u001b[0m\u001b[0mself\u001b[0m\u001b[0;34m,\u001b[0m\u001b[0mspeed\u001b[0m\u001b[0;34m,\u001b[0m\u001b[0mmodel\u001b[0m\u001b[0;34m,\u001b[0m\u001b[0mcolor\u001b[0m\u001b[0;34m)\u001b[0m\u001b[0;34m:\u001b[0m\u001b[0;34m\u001b[0m\u001b[0;34m\u001b[0m\u001b[0m\n\u001b[0;32m----> 3\u001b[0;31m     \u001b[0mself\u001b[0m\u001b[0;34m.\u001b[0m\u001b[0mspeed\u001b[0m\u001b[0;34m\u001b[0m\u001b[0;34m\u001b[0m\u001b[0m\n\u001b[0m\u001b[1;32m      4\u001b[0m     \u001b[0mself\u001b[0m\u001b[0;34m.\u001b[0m\u001b[0mmodel\u001b[0m\u001b[0;34m\u001b[0m\u001b[0;34m\u001b[0m\u001b[0m\n\u001b[1;32m      5\u001b[0m     \u001b[0mself\u001b[0m\u001b[0;34m.\u001b[0m\u001b[0mcolor\u001b[0m\u001b[0;34m\u001b[0m\u001b[0;34m\u001b[0m\u001b[0m\n",
            "\u001b[0;31mAttributeError\u001b[0m: 'Car' object has no attribute 'speed'"
          ]
        }
      ]
    },
    {
      "cell_type": "code",
      "source": [
        "import turtle #터틀 그래픽 모듈을 가져옴\n",
        "import random #random 모듈을 가져옴\n",
        "t=turtle.Turtle() #터틀 그래픽의 모든 기능을 사용한다는 것을 변수 t에 할당함\n",
        "t.shape(\"turtle\") #마우스 켜셔 모양을 터틀모양으로 설정\n",
        "s=turtle.Screen(); s.bgcolor(\"black\"); #스크린(배경)색을 black로 만듬\n",
        "\n",
        "def draw_snow(x,y,color): \n",
        "  t.color(color) #터틀에 색을 입힘\n",
        "  t.begin_fill() #색을 채움\n",
        "  t.penup() #펜을 올림\n",
        "  t.goto(x, y) #x,y으로 이동함\n",
        "  t.pendown() #펜을 내림 \n",
        "  for i in range(1,7): \n",
        "    t.forward(100)\n",
        "    t.forward(-30)\n",
        "    t.left(60)\n",
        "    t.forward(30)\n",
        "    t.forward(-30)\n",
        "\n",
        "    t.right(120)\n",
        "    t.forward(30)\n",
        "    t.forward(-30)\n",
        "\n",
        "    t.left(60)\n",
        "    t.forward(-70)\n",
        "    t.left(60)\n",
        "  t.end_fill()  \n",
        "\n",
        "for i in range(20): #range함수를 이용해 반복함\n",
        "  color = random.choice([\"white\",\"blue\",\"skyblue\"]) #리스트 내용을 랜덤으로 나오게 함 #변수 color에 할당\n",
        "  x = random.randint(-200, 200) #random.randint()함수를 변수 x에 할당\n",
        "  y = random.randint(-200, 200) #random.randint()함수를 변수 y에 할당  \n",
        "  draw_snow(x,y,color) #draw_snow()함수를 사용함\n",
        "\n"
      ],
      "metadata": {
        "id": "PdG7RmUPEXQw"
      },
      "execution_count": null,
      "outputs": []
    }
  ]
}